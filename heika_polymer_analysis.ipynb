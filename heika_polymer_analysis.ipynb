{
 "cells": [
  {
   "cell_type": "code",
   "execution_count": 56,
   "metadata": {
    "ExecuteTime": {
     "end_time": "2017-04-21T23:50:25.550217",
     "start_time": "2017-04-21T23:50:23.144114"
    },
    "collapsed": false,
    "jupyter": {
     "outputs_hidden": false
    }
   },
   "outputs": [],
   "source": [
    "%matplotlib inline\n",
    "import os\n",
    "import re\n",
    "import numpy as np\n",
    "import pandas as pd\n",
    "import scipy.ndimage as ndi\n",
    "from skimage import measure, io\n",
    "import matplotlib.pyplot as plt\n",
    "import mahotas as mh\n",
    "import matplotlib.mlab as mlab\n",
    "import matplotlib.ticker as ticker"
   ]
  },
  {
   "cell_type": "code",
   "execution_count": 57,
   "metadata": {
    "ExecuteTime": {
     "end_time": "2017-04-21T23:50:26.279955",
     "start_time": "2017-04-21T23:50:26.272194"
    },
    "tags": []
   },
   "outputs": [],
   "source": [
    "def parse_filename(filepath):\n",
    "    basename, ext = os.path.splitext(os.path.basename(filepath))\n",
    "\n",
    "    comps = basename.split('_')\n",
    "    size = tuple([int(v) for v in comps[-1:][0].split('x')])\n",
    "    bits = int(re.findall('\\d+', comps[-2:-1][0])[0])\n",
    "    name = '_'.join(comps[:-2])\n",
    "\n",
    "    return name, bits, size, ext"
   ]
  },
  {
   "cell_type": "code",
   "execution_count": 58,
   "metadata": {
    "ExecuteTime": {
     "end_time": "2017-04-21T23:50:27.075946",
     "start_time": "2017-04-21T23:50:27.071351"
    },
    "tags": []
   },
   "outputs": [],
   "source": [
    "def segment_data(filepath):\n",
    "    data = open_data(filepath)\n",
    "    # apply 3D median filter 2x2x2\n",
    "    # calculate Reyni thresholding\n",
    "    # crop"
   ]
  },
  {
   "cell_type": "code",
   "execution_count": 59,
   "metadata": {
    "ExecuteTime": {
     "end_time": "2017-04-21T23:50:27.659247",
     "start_time": "2017-04-21T23:50:27.648762"
    },
    "tags": []
   },
   "outputs": [],
   "source": [
    "def open_data(filepath):\n",
    "    _, glob_ext = os.path.splitext(os.path.basename(filepath))\n",
    "    data = None\n",
    "\n",
    "    if glob_ext == '.raw':\n",
    "        name, bits, size, ext = parse_filename(filepath)\n",
    "        data_type = np.float32 if bits == 32 else np.uint8\n",
    "        data = np.memmap(filepath, dtype=data_type, shape=tuple(reversed(size)), mode='r')\n",
    "    elif glob_ext == '.nii.gz' or glob_ext == '.nii' or glob_ext == '.gz':\n",
    "        data = nib.load(filepath).get_data()\n",
    "    elif glob_ext == '.tif':\n",
    "        data = io.imread(filepath)\n",
    "    else:\n",
    "        print 'Incorrent file format, or filename.'\n",
    "\n",
    "    return data"
   ]
  },
  {
   "cell_type": "code",
   "execution_count": 69,
   "metadata": {
    "ExecuteTime": {
     "end_time": "2017-04-23T15:04:22.898866",
     "start_time": "2017-04-23T15:04:22.890785"
    },
    "tags": []
   },
   "outputs": [],
   "source": [
    "def save_fig(fig, output_filepath):\n",
    "    output_path, filename = os.path.split(output_filepath)\n",
    "        \n",
    "    if not os.path.exists(output_path):\n",
    "        os.makedirs(output_path)\n",
    "    \n",
    "    print output_filepath\n",
    "    \n",
    "    plt.tight_layout()\n",
    "    fig.savefig(output_filepath)"
   ]
  },
  {
   "cell_type": "code",
   "execution_count": 61,
   "metadata": {
    "ExecuteTime": {
     "end_time": "2017-04-21T23:50:28.407353",
     "start_time": "2017-04-21T23:50:28.399667"
    },
    "tags": []
   },
   "outputs": [],
   "source": [
    "def write_as_raw(data, sample_name, output_dir, prefix=None):\n",
    "    bits = -1\n",
    "    if data.dtype == np.int32 or data.dtype == np.float32:\n",
    "        bits = 32\n",
    "    elif data.dtype == np.uint8 or data.dtype == np.bool:\n",
    "        bits = 8\n",
    "\n",
    "    size = data.shape[::-1]\n",
    "    output_filename = '{0}_{1}bit_{2}x{3}x{4}.raw'.format(sample_name, bits, *size) if prefix is None \\\n",
    "                        else '{0}_{1}_{2}bit_{3}x{4}x{5}.raw'.format(sample_name, prefix, bits, *size)\n",
    "    data.tofile(os.path.join(output_dir, output_filename))\n"
   ]
  },
  {
   "cell_type": "code",
   "execution_count": 62,
   "metadata": {
    "ExecuteTime": {
     "end_time": "2017-04-21T23:50:30.148747",
     "start_time": "2017-04-21T23:50:30.131511"
    },
    "tags": []
   },
   "outputs": [],
   "source": [
    "_MEASUREMENTS = {\n",
    "    'Label': 'label',\n",
    "    'Area': 'area',\n",
    "    'Perimeter': 'perimeter'\n",
    "}\n",
    "\n",
    "_MEASUREMENTS_VALS = _MEASUREMENTS.values()\n",
    "\n",
    "def object_counter(stack_binary_data):\n",
    "    print 'Object counting - Labeling...'\n",
    "    labeled_stack, num_labels = ndi.measurements.label(stack_binary_data)\n",
    "    objects_stats = pd.DataFrame(columns=_MEASUREMENTS_VALS)\n",
    "    \n",
    "    print 'Object counting - Stats gathering...'\n",
    "    for slice_idx in np.arange(labeled_stack.shape[0]):\n",
    "        for region in measure.regionprops(labeled_stack[slice_idx]):\n",
    "            objects_stats = objects_stats.append({_measure: region[_measure] \\\n",
    "                                        for _measure in _MEASUREMENTS_VALS}, \\\n",
    "                                            ignore_index=True)\n",
    "            \n",
    "    print 'Object counting - Stats grouping...'\n",
    "    objects_stats = objects_stats.groupby('label', as_index=False).sum()\n",
    "\n",
    "    return objects_stats, labeled_stack"
   ]
  },
  {
   "cell_type": "code",
   "execution_count": 63,
   "metadata": {
    "ExecuteTime": {
     "end_time": "2017-04-21T23:50:30.986174",
     "start_time": "2017-04-21T23:50:30.976405"
    },
    "tags": []
   },
   "outputs": [],
   "source": [
    "def estimate_particles(samples, output_dir):\n",
    "    for sample_name,params in samples['samples'].items():\n",
    "        if 'particles' in params:\n",
    "            print '###### Processing of {0}'.format(sample_name)\n",
    "\n",
    "            print 'Data processing - Opening...'\n",
    "            input_data = open_data(os.path.join(samples['input_dir'], params['particles'][0]))\n",
    "            output_path = os.path.join(output_dir, sample_name)\n",
    "\n",
    "            objects_stats, labeled_data = object_counter(input_data)\n",
    "\n",
    "            print 'Data storing - Stats and data saving...'\n",
    "            if not os.path.exists(output_path):\n",
    "                os.makedirs(output_path)\n",
    "\n",
    "            objects_stats.to_csv(os.path.join(output_path, 'particles_stats_{0}.csv'.format(sample_name)))"
   ]
  },
  {
   "cell_type": "code",
   "execution_count": 64,
   "metadata": {
    "ExecuteTime": {
     "end_time": "2017-04-21T23:50:31.751316",
     "start_time": "2017-04-21T23:50:31.735987"
    },
    "tags": []
   },
   "outputs": [],
   "source": [
    "def estimate_porosity(samples, output_dir):\n",
    "    for sample_name,sample_info in samples['samples'].items():\n",
    "        print '###### Processing of {0}'.format(sample_name)\n",
    "        \n",
    "        output_path = os.path.join(output_dir, sample_name)\n",
    "        total_volume, material_volume = None, 0\n",
    "        \n",
    "        for structure_type, data_params in sample_info.items():\n",
    "            print 'Data processing - Opening...'\n",
    "            \n",
    "            input_data = open_data(os.path.join(samples['input_dir'], data_params[0]))\n",
    "            \n",
    "            if total_volume is None:\n",
    "                total_volume = input_data.size\n",
    "                \n",
    "            material_volume += np.count_nonzero(input_data)\n",
    "                \n",
    "        print 'Data storing - Stats and data saving...'\n",
    "        if not os.path.exists(output_path):\n",
    "            os.makedirs(output_path)\n",
    "\n",
    "        porosity = material_volume / float(total_volume)\n",
    "        print 'Porosity :{0}'.format(porosity)\n",
    "        \n",
    "        np.savetxt(os.path.join(output_path, 'porosity_{0}.txt'.format(sample_name)), [porosity])"
   ]
  },
  {
   "cell_type": "code",
   "execution_count": 65,
   "metadata": {
    "ExecuteTime": {
     "end_time": "2017-04-21T23:50:33.437927",
     "start_time": "2017-04-21T23:50:33.424428"
    },
    "collapsed": false,
    "jupyter": {
     "outputs_hidden": false
    }
   },
   "outputs": [],
   "source": [
    "samples_data = {\n",
    "    'input_dir': './samples/polymer_data/cropped',\n",
    "    'samples': {\n",
    "        'PCL_SiHA_cl': {\n",
    "            'particles': ('PCL9%_Si-HA10%_cl/analysis/particles_PCL9%_Si-HA10%_cl_32bit_800x800x484.tif', np.uint8, (484,800,800)),\n",
    "            'fibers': ('PCL9%_Si-HA10%_cl/analysis/fibers_PCL9%_Si-HA10%_cl_8bit_800x800x442.raw', np.uint8, (442,800,800))\n",
    "        },\n",
    "        'PCL_SiHA_wa': {\n",
    "            'particles':('PCL9%_Si-HA10%_wa/analysis/particles_PCL9%_Si-HA10%_wa_32bit_800x800x351.tif', np.uint8, (351,800,800)),\n",
    "            'fibers': ('PCL9%_Si-HA10%_wa/analysis/fibers_PCL9%_Si-HA10%_wa_8bit_800x800x351.raw', np.uint8, (351,800,800))\n",
    "        },\n",
    "        'PCL_cl': {\n",
    "            'fibers': ('PCL_9%_cl/analysis/fiber_mask_PCL_cl_8bit_800x800x221.raw', np.uint8, (221,800,800))\n",
    "        },\n",
    "        'PCL_wa': {\n",
    "            'fibers': ('PCL_9%_wa/analysis/fiber_mask_PCL_9%_wa_8bit_800x800x251.raw', np.uint8, (251,800,800)),\n",
    "        }\n",
    "    }\n",
    "}"
   ]
  },
  {
   "cell_type": "markdown",
   "metadata": {
    "ExecuteTime": {
     "end_time": "2017-04-10T16:40:45.328694",
     "start_time": "2017-04-10T16:40:45.325646"
    }
   },
   "source": [
    "# Plotting utilities"
   ]
  },
  {
   "cell_type": "code",
   "execution_count": 66,
   "metadata": {
    "ExecuteTime": {
     "end_time": "2017-04-21T23:50:37.596374",
     "start_time": "2017-04-21T23:50:37.591938"
    },
    "tags": []
   },
   "outputs": [],
   "source": [
    "def number(val):\n",
    "    if val < 1000:\n",
    "        return '%d' % val\n",
    "        \n",
    "    sv = str(val)\n",
    "    return '$\\mathregular{10^{%d}}$' % (len(sv)-2) if val % 10 == 0 else '%0.0e' % val"
   ]
  },
  {
   "cell_type": "code",
   "execution_count": 67,
   "metadata": {
    "ExecuteTime": {
     "end_time": "2017-04-22T09:22:47.725039",
     "start_time": "2017-04-22T09:22:47.715414"
    },
    "tags": []
   },
   "outputs": [],
   "source": [
    "def get_data_by_type(path, type, unit_scale=1.8):\n",
    "    if type == 'p':\n",
    "        data = pd.read_csv(path)['area'] * (unit_scale**3)\n",
    "    elif type == 'd':\n",
    "        data = np.load(path).item()\n",
    "        data = data['diameter']\n",
    "        data = data * unit_scale * 2\n",
    "    else:\n",
    "        return None\n",
    "    \n",
    "    return data"
   ]
  },
  {
   "cell_type": "code",
   "execution_count": 84,
   "metadata": {
    "ExecuteTime": {
     "end_time": "2017-04-23T17:57:38.011055",
     "start_time": "2017-04-23T17:57:37.918552"
    },
    "tags": []
   },
   "outputs": [],
   "source": [
    "def create_pie_chart(sample_name, input_dir, title, rngs, plot_title=False, type='p', unit_scale=1.8):\n",
    "    dpy_path = get_result_path(sample_name, input_dir, type=type)\n",
    "    df = get_data_by_type(dpy_path, type=type, unit_scale=unit_scale)\n",
    "    \n",
    "    data_ranges = []\n",
    "    for rng in rngs:\n",
    "        rng_min, rng_max = rng[0], rng[1]\n",
    "        data_rng = df[(df > rng_min) & (df < rng_max)]\n",
    "        data_ranges.append(data_rng)\n",
    "    \n",
    "    num_elem = [len(p) for p in data_ranges]\n",
    "    se = sum(num_elem)\n",
    "\n",
    "    proc_particles = [n/float(se) * 100.0 for n in num_elem]      \n",
    "                      \n",
    "    def get_title(v1, v2):\n",
    "        return '%s $\\minus$ %s $\\mathregular{um^3}$' % (number(v1), number(v2))\n",
    "                      \n",
    "    titles = [get_title(minv, maxv) for minv,maxv in rngs]\n",
    "    #colors = ['#1E824C', '#80B584', '#A6CAA9', '#C9DECB', '#E9F1EA'] #green\n",
    "    #colors = ['#663399', '#AD8BFE', '#C4ABFE', '#BE90D4', '#DDCEFF'] #purple\n",
    "    def_color = ['#23819C', '#2FAACE', '#57BCD9', '#8CD1E6', '#B8E2EF'] #blue\n",
    "    #colors = ['#ae4900', '#c75400', '#e15e00', '#ff862e', '#ff862e'] #orange\n",
    "     \n",
    "\n",
    "        \n",
    "    #OFFICIAL\n",
    "    #colors = ['#740000', '#9E0000', '#C20000', '#F94747', '#F40C0C'] #red rPCL\n",
    "    #colors = ['#2A4000', '#446800', '#5B8A03', '#75A717', '#94C536'] #green wPCL\n",
    "    #colors = ['#8B5B00', '#B3790B', '#EFB548', '#FFCF73', '#E49E18'] #orange rPCL-SiHA\n",
    "    #colors = ['#593159', '#6F496F', '#9C879C', '#C4B9C4', '#846584'] #violet wPCL-SiHA\n",
    "    \n",
    "#     poly_colors = {'PCL_cl': ['#740000', '#9E0000', '#C20000', '#F94747', '#F40C0C'], \\\n",
    "#                    'PCL_wa': ['#2A4000', '#446800', '#5B8A03', '#75A717', '#94C536'], \\\n",
    "#                    'PCL_SiHA_cl': ['#8B5B00', '#B3790B', '#E49E18', '#EFB548', '#FFCF73'], \\\n",
    "#                    'PCL_SiHA_wa': ['#593159', '#6F496F', '#846584', '#9C879C', '#C4B9C4']}\n",
    "\n",
    "    poly_colors = {'PCL_cl': ['#5A0E00', '#AD1B00', '#FF2800', '#FF6043', '#FB2700'], \\\n",
    "                   'PCL_wa': ['#5A2E00', '#AD5900', '#FF8300', '#FFA343', '#FB8100'], \\\n",
    "                   'PCL_SiHA_cl': ['#012B38', '#01516C', '#08B0E8', '#44C1EB', '#01769D'], \\\n",
    "                   'PCL_SiHA_wa': ['#004216', '#007F2B', '#00EE51', '#3FF17B', '#00B83E']}\n",
    "    \n",
    "    text_color = '#ffffff'\n",
    "    \n",
    "    colors = poly_colors.get(sample_name, def_color)\n",
    "        \n",
    "    textprops={'fontsize': 55, 'weight': 'normal', 'family': 'sans-serif', 'color': text_color}\n",
    "    pie_width = 0.5\n",
    "    fig, ax = plt.subplots(figsize=(27,15))\n",
    "    ax.axis('equal')\n",
    "    patches, texts, autotexts = ax.pie(proc_particles, \\\n",
    "                                       textprops=textprops, \\\n",
    "                                       colors=colors, \\\n",
    "                                       autopct='%1.1f%%', \\\n",
    "                                       radius=1, \\\n",
    "                                       pctdistance=1-pie_width/2)\n",
    "    \n",
    "    plt.setp(patches, \\\n",
    "             width=pie_width, \\\n",
    "             edgecolor='white')\n",
    "    \n",
    "    if plot_title:\n",
    "        plt.text(0.5, 0.5, \\\n",
    "                 title, \\\n",
    "                 horizontalalignment='center', \\\n",
    "                 verticalalignment='center', \\\n",
    "                 weight='bold', \\\n",
    "                 fontsize=80, \\\n",
    "                 transform=ax.transAxes)\n",
    "    \n",
    "   \n",
    "    \n",
    "    plt.legend(patches, titles, loc=(0.71,0.66), fontsize=50)\n",
    "    \n",
    "    for t, p in zip(autotexts, proc_particles):\n",
    "        if p < 2.0:\n",
    "            pos = list(t.get_position())\n",
    "            pos[0] = pos[0] + 0.45\n",
    "\n",
    "            t.set_position(pos)\n",
    "            t.set_color('#000000')\n",
    "            \n",
    "    plt.tight_layout()\n",
    "    save_fig(fig, os.path.join(input_dir, '_'.join([sample_name, title, 'pie']) + '.png'))"
   ]
  },
  {
   "cell_type": "code",
   "execution_count": 85,
   "metadata": {
    "ExecuteTime": {
     "end_time": "2017-04-23T17:52:33.070022",
     "start_time": "2017-04-23T17:52:32.963251"
    },
    "collapsed": false,
    "jupyter": {
     "outputs_hidden": false
    }
   },
   "outputs": [],
   "source": [
    "def plot_histogram(data, fig=None, splot_index=111,\n",
    "                   num_bins=50, scale=2., exp_fontsize=14, \n",
    "                   labels_fontsize=18, grid_alpha=0.4,\n",
    "                   figsize=(12,8),\n",
    "                   ylim=(None,None), xlim=(None,None),\n",
    "                   xticks=None, yticks=None,\n",
    "                   use_sci_yaxis=True, use_sci_xaxis=False,\n",
    "                   ticks_pad=10, color='#19B5FE', \n",
    "                   ylabel=None, xlabel=None, \n",
    "                   yticks_fontsize=18, xticks_fontsize=18,\n",
    "                   title=None, bar_width=None, \n",
    "                   title_fontsize=22,\n",
    "                   labelpad=2, use_xlocator=False,\n",
    "                   use_log=False, normed=True):\n",
    "    if fig is None:\n",
    "        fig = plt.figure(figsize=tuple([v * scale for v in figsize]))\n",
    "        \n",
    "    ax = fig.add_subplot(splot_index)\n",
    "    \n",
    "    n, bins, patches = ax.hist(data, num_bins, normed=normed, color=color, rwidth=bar_width)\n",
    "\n",
    "    mu, sigma = np.mean(data), np.std(data)\n",
    "    y = mlab.normpdf(bins, mu, sigma)\n",
    "    ax.plot(bins, y, '--', linewidth=2*scale)\n",
    "    \n",
    "    ax.tick_params(color='black', labelcolor='black', direction='out', pad=ticks_pad*scale)\n",
    "    ax.tick_params(axis='y', which='major', labelsize=yticks_fontsize*scale)\n",
    "    ax.tick_params(axis='x', which='major', labelsize=xticks_fontsize*scale)\n",
    "    \n",
    "    if xticks is not None:\n",
    "        pos = np.linspace(xticks.min(), xticks.max(), num=len(xticks))\n",
    "        plt.xticks(xticks, xticks)\n",
    "        \n",
    "    ax.xaxis.offsetText.set_fontsize(exp_fontsize*scale)\n",
    "    ax.yaxis.offsetText.set_fontsize(exp_fontsize*scale)\n",
    "    \n",
    "    if use_sci_yaxis:\n",
    "        ax.ticklabel_format(axis='y', style='sci', scilimits=(-2,2), fontsize=exp_fontsize*scale)\n",
    "    \n",
    "    if use_sci_xaxis:\n",
    "        ax.ticklabel_format(axis='x', style='sci', scilimits=(-2,2), fontsize=exp_fontsize*scale)\n",
    "    \n",
    "    ax.yaxis.set_major_locator(ticker.MaxNLocator(nbins=6, min_n_ticks=5))\n",
    "    \n",
    "    if use_xlocator:\n",
    "        ax.xaxis.set_major_locator(ticker.MaxNLocator(prune='lower'))\n",
    "    \n",
    "    ax.xaxis.grid(False)\n",
    "    ax.yaxis.grid(lw=1*scale, color='#aaaaaa', alpha=grid_alpha)\n",
    "    \n",
    "    if ylabel is not None:\n",
    "        ax.set_ylabel(ylabel, labelpad=labelpad*scale, fontsize=labels_fontsize*scale, color='black')\n",
    "        \n",
    "    if xlabel is not None:\n",
    "        ax.set_xlabel(xlabel, labelpad=labelpad*scale, fontsize=labels_fontsize*scale, color='black')\n",
    "    \n",
    "    ax.set_ylim(ylim)\n",
    "    ax.set_xlim(xlim)\n",
    "    \n",
    "    ax.set_axisbelow(True)\n",
    "    \n",
    "    if use_log:\n",
    "        ax.set_yscale('log')\n",
    "    \n",
    "    if title is not None:\n",
    "        ax.set_title(title, fontsize=title_fontsize*scale, y=1.06)\n",
    "    \n",
    "    return fig, ax"
   ]
  },
  {
   "cell_type": "code",
   "execution_count": 30,
   "metadata": {
    "ExecuteTime": {
     "end_time": "2017-04-21T23:50:43.451210",
     "start_time": "2017-04-21T23:50:43.444319"
    },
    "tags": []
   },
   "outputs": [],
   "source": [
    "def get_result_path(sample_name, input_dir, type='o', window_size=31):\n",
    "    if type == 'd':\n",
    "        return os.path.join(input_dir, '{sample_name}_diameter_evaluation.npy'.format(sample_name=sample_name))\n",
    "    elif type == 'o':\n",
    "        return os.path.join(input_dir, '{sample_name}_w{window_size}_orientation_evaluation.npy'.format(sample_name=sample_name, window_size=window_size))\n",
    "    elif type == 'p':\n",
    "        return os.path.join(input_dir, sample_name, 'particles_stats_{sample_name}.csv'.format(sample_name=sample_name))\n",
    "    else:\n",
    "        return None"
   ]
  },
  {
   "cell_type": "code",
   "execution_count": 31,
   "metadata": {
    "ExecuteTime": {
     "end_time": "2017-04-23T15:51:38.861240",
     "start_time": "2017-04-23T15:51:38.848136"
    },
    "tags": []
   },
   "outputs": [],
   "source": [
    "def plot_orientation_old(dpy_path, sample_params, sample_name, input_dir, **kwargs):\n",
    "    for key, params in sample_params.items():\n",
    "        dpy = np.rad2deg(np.load(dpy_path).item()[key])\n",
    "        dpy = dpy[np.where(dpy > 0)]\n",
    "        \n",
    "        xmin, xmax = params[1]\n",
    "        xticks = np.linspace(xmin, xmax, num=10).astype(np.int32)\n",
    "        \n",
    "        fig, ax = plot_histogram(dpy,\n",
    "                                 num_bins=params[2],\n",
    "                                 title=params[0], \n",
    "                                 xticks=xticks,\n",
    "                                 xlim=params[1],\n",
    "                                 **kwargs)\n",
    "        \n",
    "        save_fig(fig, os.path.join(input_dir, '_'.join([sample_name, key]) + '.png'))"
   ]
  },
  {
   "cell_type": "code",
   "execution_count": 32,
   "metadata": {
    "ExecuteTime": {
     "end_time": "2017-04-21T23:50:44.546516",
     "start_time": "2017-04-21T23:50:44.535423"
    },
    "collapsed": false,
    "jupyter": {
     "outputs_hidden": false
    }
   },
   "outputs": [],
   "source": [
    "def plot_particles(dpy_path, sample_params, unit_scale=1.8, **kwargs):\n",
    "    for key, params in sample_params.items():\n",
    "        dpy = pd.read_csv(dpy_path)[key] * (unit_scale**3)\n",
    "        \n",
    "        for rng in params[2]:\n",
    "            vmin, vmax = rng\n",
    "            \n",
    "            if vmax is None:\n",
    "                vmax = dpy.max()\n",
    "                \n",
    "            title = None if params[0] is None else '_'.join([params[0],'{0}-{1}'.format(vmin, vmax)])\n",
    "            \n",
    "            dpy_lim = dpy[(dpy >= vmin) & (dpy < vmax)]\n",
    "            fig, ax = plot_histogram(dpy_lim,\n",
    "                                     title=title,\n",
    "                                     num_bins=params[1],\n",
    "                                     xlim=(vmin, vmax),\n",
    "                                     **kwargs)"
   ]
  },
  {
   "cell_type": "code",
   "execution_count": 33,
   "metadata": {
    "ExecuteTime": {
     "end_time": "2017-04-21T23:50:46.522988",
     "start_time": "2017-04-21T23:50:46.502425"
    },
    "collapsed": false,
    "jupyter": {
     "outputs_hidden": false
    }
   },
   "outputs": [],
   "source": [
    "def plot_complex_hist(input_dir, charts_params, type='p', window_size=31, unit_scale=1.8, scale=2):\n",
    "    for sample_name, chart_params in charts_params.items():\n",
    "        fig = plt.figure(figsize=(27*scale,15*scale))\n",
    "        \n",
    "        for chart_param in chart_params:\n",
    "            dpy_path = get_result_path(sample_name, input_dir, type=type)\n",
    "            dpy = pd.read_csv(dpy_path)['area'] * (unit_scale**3)\n",
    "\n",
    "            nbins, vmin, vmax = chart_param['range']\n",
    "            dpy_lim = dpy[(dpy >= vmin) & (dpy < vmax)]\n",
    "           \n",
    "            _, ax = plot_histogram(dpy_lim,\n",
    "                                   fig=fig,\n",
    "                                   splot_index=chart_param['pidx'],\n",
    "                                   scale=scale,\n",
    "                                   num_bins=nbins,\n",
    "                                   color=chart_param['color'],\n",
    "                                   xlabel=chart_param['xlabel'],\n",
    "                                   ylabel=chart_param['ylabel'],\n",
    "                                   xlim=(vmin, vmax),\n",
    "                                   labelpad=15,\n",
    "                                   exp_fontsize=25,\n",
    "                                   labels_fontsize=30,\n",
    "                                   grid_alpha=0.3,\n",
    "                                   ticks_pad=7,\n",
    "                                   yticks_fontsize=30,\n",
    "                                   xticks_fontsize=30,\n",
    "                                   bar_width=0.8,\n",
    "                                   normed=False,\n",
    "                                   use_sci_xaxis=True,\n",
    "                                   use_sci_yaxis=True,\n",
    "                                   use_xlocator=True)\n",
    "    plt.tight_layout()"
   ]
  },
  {
   "cell_type": "code",
   "execution_count": 34,
   "metadata": {
    "ExecuteTime": {
     "end_time": "2017-04-21T23:50:46.898531",
     "start_time": "2017-04-21T23:50:46.891232"
    },
    "tags": []
   },
   "outputs": [],
   "source": [
    "def plot_diameter(dpy_path, sample_params, unit_scale=1.8, **kwargs):\n",
    "    for key, params in sample_params.items():\n",
    "        dpy = np.load(dpy_path).item()[key]\n",
    "        dpy = dpy[np.where(dpy > 0)]\n",
    "        dpy = dpy * unit_scale * 2\n",
    "        dpy = dpy[np.where(dpy <= params[2])]\n",
    "        \n",
    "        fig, ax = plot_histogram(dpy,\n",
    "                                 title=params[0],\n",
    "                                 num_bins=params[1],\n",
    "                                 **kwargs)"
   ]
  },
  {
   "cell_type": "code",
   "execution_count": 35,
   "metadata": {
    "ExecuteTime": {
     "end_time": "2017-04-23T15:54:34.044582",
     "start_time": "2017-04-23T15:54:34.033586"
    },
    "tags": []
   },
   "outputs": [],
   "source": [
    "def plot_from_samples(input_dir, sample_names, sample_params, type='o', window_size=31, **kwargs):\n",
    "    for sample_name in sample_names:\n",
    "        dpy_path = get_result_path(sample_name, input_dir, type=type)\n",
    "        \n",
    "        print 'Sample: {0} ({1})'.format(sample_name, dpy_path)\n",
    "        \n",
    "        if type == 'o':\n",
    "            plot_orientation_old(dpy_path, sample_params, sample_name, input_dir, **kwargs)\n",
    "        elif type == 'd':\n",
    "            plot_diameter(dpy_path, sample_params, **kwargs)\n",
    "        elif type == 'p':\n",
    "            plot_particles(dpy_path, sample_params, **kwargs)\n",
    "        else:\n",
    "            raise ValueError('Incorrect type.')"
   ]
  },
  {
   "cell_type": "markdown",
   "metadata": {},
   "source": [
    "# Estimate particles"
   ]
  },
  {
   "cell_type": "code",
   "execution_count": 15,
   "metadata": {
    "ExecuteTime": {
     "end_time": "2017-03-30T15:39:59.543201",
     "start_time": "2017-03-30T15:35:39.720836"
    },
    "collapsed": false,
    "jupyter": {
     "outputs_hidden": false
    }
   },
   "outputs": [
    {
     "name": "stdout",
     "output_type": "stream",
     "text": [
      "###### Processing of PCL_SiHA_cl\n",
      "Data processing - Opening...\n",
      "Object counting - Labeling...\n",
      "Object counting - Stats gathering...\n",
      "Object counting - Stats grouping...\n",
      "Data storing - Stats and data saving...\n",
      "###### Processing of PCL_SiHA_wa\n",
      "Data processing - Opening...\n",
      "Object counting - Labeling...\n",
      "Object counting - Stats gathering...\n",
      "Object counting - Stats grouping...\n",
      "Data storing - Stats and data saving...\n"
     ]
    }
   ],
   "source": [
    "process_batch(samples_data, './samples/polymer_data/results')"
   ]
  },
  {
   "cell_type": "markdown",
   "metadata": {},
   "source": [
    "# Estimate porosity"
   ]
  },
  {
   "cell_type": "code",
   "execution_count": 38,
   "metadata": {
    "ExecuteTime": {
     "end_time": "2017-03-30T16:42:39.280468",
     "start_time": "2017-03-30T16:42:22.199386"
    },
    "collapsed": false,
    "jupyter": {
     "outputs_hidden": false
    }
   },
   "outputs": [
    {
     "name": "stdout",
     "output_type": "stream",
     "text": [
      "###### Processing of PCL_cl\n",
      "Data processing - Opening...\n",
      "Data storing - Stats and data saving...\n",
      "Porosity :0.16124372879\n",
      "###### Processing of PCL_SiHA_cl\n",
      "Data processing - Opening...\n",
      "Data processing - Opening...\n",
      "Data storing - Stats and data saving...\n",
      "Porosity :0.244482476756\n",
      "###### Processing of PCL_SiHA_wa\n",
      "Data processing - Opening...\n",
      "Data processing - Opening...\n",
      "Data storing - Stats and data saving...\n",
      "Porosity :0.268858293269\n",
      "###### Processing of PCL_wa\n",
      "Data processing - Opening...\n",
      "Data storing - Stats and data saving...\n",
      "Porosity :0.238525037351\n"
     ]
    }
   ],
   "source": [
    "estimate_porosity(samples_data, './samples/polymer_data/results')"
   ]
  },
  {
   "cell_type": "markdown",
   "metadata": {
    "ExecuteTime": {
     "end_time": "2017-03-30T16:42:57.208968",
     "start_time": "2017-03-30T16:42:57.204339"
    }
   },
   "source": [
    "# Plot particles distribution"
   ]
  },
  {
   "cell_type": "code",
   "execution_count": 511,
   "metadata": {
    "ExecuteTime": {
     "end_time": "2017-04-11T18:15:16.415496",
     "start_time": "2017-04-11T18:15:14.756469"
    },
    "collapsed": false,
    "jupyter": {
     "outputs_hidden": false
    }
   },
   "outputs": [
    {
     "data": {
      "image/png": "[encoded data removed]",
      "text/plain": [
       "<matplotlib.figure.Figure at 0x7f1acc53ed10>"
      ]
     },
     "metadata": {},
     "output_type": "display_data"
    }
   ],
   "source": [
    "sample_charts_params = {\n",
    "    'PCL_SiHA_cl': [ \n",
    "            {'pidx': (2,1,1),\n",
    "             'range': (np.linspace(0,100000,num=101),1,100000),\n",
    "             'xlabel': None,\n",
    "             'ylabel': 'Number of particles',\n",
    "             'color': '#e49e18' },\n",
    "        \n",
    "            {'pidx': (2,3,4),\n",
    "             'range': (15,1,1000),\n",
    "             'xlabel': None,\n",
    "             'ylabel': 'Number of particles',\n",
    "             'color': '#e49e18' },\n",
    "        \n",
    "            {'pidx': (2,3,5),\n",
    "             'range': (15,1000,10000),\n",
    "             'xlabel': 'Particle size, [ $\\mu m^{3}$ ]',\n",
    "             'ylabel': None, \n",
    "             'color': '#e49e18' },\n",
    "        \n",
    "            {'pidx': (2,3,6),\n",
    "             'range': (15,10000,100000),\n",
    "             'xlabel': None,\n",
    "             'ylabel': None,\n",
    "             'color': '#e49e18' }\n",
    "    ]\n",
    "}\n",
    "\n",
    "plot_complex_hist('./samples/polymer_data/results',\n",
    "                  sample_charts_params,\n",
    "                  scale=0.5)"
   ]
  },
  {
   "cell_type": "markdown",
   "metadata": {
    "ExecuteTime": {
     "end_time": "2017-04-10T16:38:45.274562",
     "start_time": "2017-04-10T16:38:45.271234"
    }
   },
   "source": [
    "# Plot fiber orientation"
   ]
  },
  {
   "cell_type": "code",
   "execution_count": 85,
   "metadata": {
    "ExecuteTime": {
     "end_time": "2017-04-22T12:19:50.348672",
     "start_time": "2017-04-22T12:19:50.329826"
    },
    "code_folding": [],
    "hide_input": false,
    "tags": []
   },
   "outputs": [],
   "source": [
    "def plot_orientation(dpy_path, sample_params, **kwargs):\n",
    "    for key, params in sample_params.items():\n",
    "        dpy = np.rad2deg(np.load(dpy_path).item()[key])\n",
    "        dpy = dpy[np.where(dpy > 0)]\n",
    "        \n",
    "        xmin, xmax = params[1]\n",
    "        N = 180\n",
    "        \n",
    "        theta = np.linspace(0., 2.*np.pi, N, endpoint=False)\n",
    "        width = np.pi / N\n",
    "        hist, bins = np.histogram(dpy, bins=theta)\n",
    "        \n",
    "        ax = plt.subplot(111, projection='polar')\n",
    "        bars = ax.bar(theta, hist, width=width, bottom=0.0)\n",
    "        \n",
    "        for r, bar in zip(radii, bars):\n",
    "            bar.set_facecolor(plt.cm.viridis(r / 10.))\n",
    "            bar.set_alpha(0.5)\n",
    "\n",
    "        plt.show()"
   ]
  },
  {
   "cell_type": "code",
   "execution_count": 250,
   "metadata": {
    "ExecuteTime": {
     "end_time": "2017-05-02T17:42:59.530585",
     "start_time": "2017-05-02T17:42:55.177061"
    },
    "collapsed": false,
    "jupyter": {
     "outputs_hidden": false
    }
   },
   "outputs": [
    {
     "name": "stdout",
     "output_type": "stream",
     "text": [
      "(251, 800, 800)\n"
     ]
    }
   ],
   "source": [
    "_dpy_path = get_result_path('PCL_wa', './samples/polymer_data/results', type='o')\n",
    "_data = np.load(_dpy_path).item()\n",
    "print _data['azth'].shape"
   ]
  },
  {
   "cell_type": "code",
   "execution_count": null,
   "metadata": {},
   "outputs": [],
   "source": [
    "from mpl_toolkits.mplot3d import Axes3D\n",
    "import matplotlib as mpl\n",
    "\n",
    "N = 180\n",
    "\n",
    "_dpy_path = get_result_path('PCL_wa', './samples/polymer_data/results', type='o')\n",
    "_data = np.load(_dpy_path).item()\n",
    "\n",
    "_azth = np.rad2deg(_data['azth']).flatten()\n",
    "_lat = np.rad2deg(_data['lat']).flatten()\n",
    "\n",
    "azth_vals = np.linspace(0., 179., N, endpoint=True)\n",
    "lat_vals = np.linspace(-90., 89., N, endpoint=True)\n",
    "\n",
    "azth_hist, _ = np.histogram(_azth, bins=azth_vals)\n",
    "lat_hist, _ = np.histogram(_lat, bins=lat_vals)\n",
    "\n",
    "theta = np.linspace(0., 179., N-1, endpoint=True)\n",
    "radii = azth_hist\n",
    "width = np.pi / 20.\n",
    "\n",
    "ax = plt.subplot(111, projection='polar')\n",
    "bars = ax.bar(theta, radii, width=width, bottom=0.0)\n",
    "\n",
    "\n",
    "plt.show()"
   ]
  },
  {
   "cell_type": "markdown",
   "metadata": {},
   "source": [
    "# Plot fiber diameter"
   ]
  },
  {
   "cell_type": "code",
   "execution_count": 256,
   "metadata": {
    "ExecuteTime": {
     "end_time": "2017-05-03T00:34:43.136107",
     "start_time": "2017-05-03T00:34:43.089570"
    },
    "tags": []
   },
   "outputs": [],
   "source": [
    "def create_pie_chart_figure():\n",
    "    sample_name = 'PCL_wa'\n",
    "    input_dir = './samples/polymer_data/results'\n",
    "    title = 'PCL w/a'\n",
    "    rngs = [(1, 10,), (10,25,)]\n",
    "    type = 'd'\n",
    "    unit_scale=1.8\n",
    "    dpy_path = get_result_path(sample_name, input_dir, type=type)\n",
    "    df = get_data_by_type(dpy_path, type=type, unit_scale=unit_scale)\n",
    "    \n",
    "    data_ranges = []\n",
    "    for rng in rngs:\n",
    "        rng_min, rng_max = rng[0], rng[1]\n",
    "        data_rng = df[(df > rng_min) & (df < rng_max)]\n",
    "        data_ranges.append(data_rng)\n",
    "    \n",
    "    num_elem = [len(p) for p in data_ranges]\n",
    "    se = sum(num_elem)\n",
    "    proc_diameters = [n/float(se) * 100.0 for n in num_elem]      \n",
    "                      \n",
    "    def get_title(v1, v2):\n",
    "        return '%s $\\minus$ %s $\\mathregular{um^3}$' % (number(v1), number(v2))\n",
    "                      \n",
    "    titles = [get_title(minv, maxv) for minv,maxv in rngs]\n",
    "    colors = ['#23819C', '#2FAACE', '#57BCD9', '#8CD1E6', '#B8E2EF'] #blue       \n",
    "    textprops={'fontsize': 55, 'weight': 'light', 'family': 'sans-serif'}\n",
    "    pie_width = 0.5\n",
    "    \n",
    "    fig, ax = plt.subplots(figsize=(27,15))\n",
    "    ax.axis('equal')\n",
    "    patches, texts, autotexts = ax.pie(proc_diameters, textprops=textprops, colors=colors, \\\n",
    "                                       autopct='%1.1f%%', radius=1, pctdistance=1-pie_width/2)\n",
    "    plt.setp(patches, width=pie_width, edgecolor='white')\n",
    "    plt.text(0.5, 0.5, title, horizontalalignment='center', verticalalignment='center', \\\n",
    "             weight='bold', fontsize=80, transform=ax.transAxes)\n",
    "    plt.legend(patches, titles, loc=(0.71,0.66), fontsize=50)\n",
    "    plt.tight_layout()\n"
   ]
  },
  {
   "cell_type": "code",
   "execution_count": 259,
   "metadata": {
    "ExecuteTime": {
     "end_time": "2017-05-03T00:51:46.980894",
     "start_time": "2017-05-03T00:51:46.930419"
    },
    "tags": []
   },
   "outputs": [],
   "source": [
    "def plot_histogram_fig(data, num_bins, xticks, splot_index=111):\n",
    "    fig = plt.figure(figsize=(12,8))\n",
    "    ax = fig.add_subplot(splot_index)\n",
    "    n, bins, patches = ax.hist(data, 50, normed=1, color='#19B5FE', rwidth=0.8)\n",
    "\n",
    "    mu, sigma = np.mean(data), np.std(data)\n",
    "    y = mlab.normpdf(bins, mu, sigma)\n",
    "    ax.plot(bins, y, '--', linewidth=2)\n",
    "    \n",
    "    ax.tick_params(color='black', labelcolor='black', direction='out', pad=7)\n",
    "    ax.tick_params(axis='y', which='major', labelsize=30)\n",
    "    ax.tick_params(axis='x', which='major', labelsize=30)\n",
    "    \n",
    "    pos = np.linspace(xticks.min(), xticks.max(), num=len(xticks))\n",
    "    plt.xticks(xticks, xticks)\n",
    "        \n",
    "    ax.xaxis.offsetText.set_fontsize(22)\n",
    "    ax.yaxis.offsetText.set_fontsize(22)\n",
    "    \n",
    "    ax.ticklabel_format(axis='y', style='sci', scilimits=(-2,2), fontsize=22)\n",
    "    ax.yaxis.set_major_locator(ticker.MaxNLocator(nbins=6, min_n_ticks=5))\n",
    "\n",
    "    ax.xaxis.grid(False)\n",
    "    ax.yaxis.grid(lw=1, color='#aaaaaa', alpha=0.3)\n",
    "\n",
    "    ax.set_ylabel('Amount, [a.u.]', labelpad=2, fontsize=30, color='black')\n",
    "    ax.set_xlabel('Orientation', labelpad=2, fontsize=30, color='black')\n",
    "    \n",
    "    ax.set_ylim(ylim)\n",
    "    ax.set_xlim(xlim)\n",
    "    \n",
    "    ax.set_axisbelow(True)\n",
    "    \n",
    "    return fig, ax"
   ]
  },
  {
   "cell_type": "code",
   "execution_count": null,
   "metadata": {
    "tags": []
   },
   "outputs": [],
   "source": [
    "def plot_orientation_old(dpy_path, sample_params, sample_name, input_dir, **kwargs):\n",
    "    sample_name = 'PCL_wa'\n",
    "    input_dir = './samples/polymer_data/results'\n",
    "    sample_params= dict(azth=('Azimuth', (0., 180.), 50), lat=('Latitude', (-90.,90.), 25))\n",
    "    \n",
    "    for key, params in sample_params.items():\n",
    "        dpy_path = get_result_path(sample_name, input_dir, type=type)\n",
    "        dpy = np.rad2deg(np.load(dpy_path).item()[key])\n",
    "        dpy = dpy[np.where(dpy > 0)]\n",
    "        \n",
    "        fig, ax = plot_histogram_fig(dpy,\n",
    "                                 num_bins=params[2],\n",
    "                                 xticks=np.linspace(params[1][0], params[1][1], num=10).astype(np.int32),\n",
    "                                 xlim=params[1],\n",
    "                                 **kwargs)"
   ]
  }
 ],
 "metadata": {
  "kernelspec": {
   "display_name": "Python 3",
   "language": "python",
   "name": "python3"
  },
  "language_info": {
   "codemirror_mode": {
    "name": "ipython",
    "version": 3
   },
   "file_extension": ".py",
   "mimetype": "text/x-python",
   "name": "python",
   "nbconvert_exporter": "python",
   "pygments_lexer": "ipython3",
   "version": "3.9.4"
  }
 },
 "nbformat": 4,
 "nbformat_minor": 4
}
